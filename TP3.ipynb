{
 "cells": [
  {
   "cell_type": "code",
   "execution_count": 1,
   "metadata": {
    "id": "EJeT2BUPD8iN"
   },
   "outputs": [],
   "source": [
    "# import packages\n",
    "import sklearn.datasets\n",
    "import numpy as np\n",
    "import pandas as pd\n",
    "import matplotlib.pyplot as plt\n",
    "import seaborn as sn\n",
    "from sklearn.preprocessing import MinMaxScaler\n",
    "from sklearn.model_selection import train_test_split\n",
    "from sklearn.preprocessing import LabelEncoder\n",
    "from keras.utils import np_utils"
   ]
  },
  {
   "cell_type": "code",
   "execution_count": 2,
   "metadata": {
    "colab": {
     "base_uri": "https://localhost:8080/",
     "height": 206
    },
    "id": "r3Bys7JAEHcz",
    "outputId": "b8071e46-1fef-43fd-e6b8-d216f2c8ed8a"
   },
   "outputs": [
    {
     "data": {
      "text/html": [
       "<div>\n",
       "<style scoped>\n",
       "    .dataframe tbody tr th:only-of-type {\n",
       "        vertical-align: middle;\n",
       "    }\n",
       "\n",
       "    .dataframe tbody tr th {\n",
       "        vertical-align: top;\n",
       "    }\n",
       "\n",
       "    .dataframe thead th {\n",
       "        text-align: right;\n",
       "    }\n",
       "</style>\n",
       "<table border=\"1\" class=\"dataframe\">\n",
       "  <thead>\n",
       "    <tr style=\"text-align: right;\">\n",
       "      <th></th>\n",
       "      <th>type</th>\n",
       "      <th>fixed acidity</th>\n",
       "      <th>volatile acidity</th>\n",
       "      <th>citric acid</th>\n",
       "      <th>residual sugar</th>\n",
       "      <th>chlorides</th>\n",
       "      <th>free sulfur dioxide</th>\n",
       "      <th>total sulfur dioxide</th>\n",
       "      <th>density</th>\n",
       "      <th>pH</th>\n",
       "      <th>sulphates</th>\n",
       "      <th>alcohol</th>\n",
       "      <th>quality</th>\n",
       "    </tr>\n",
       "  </thead>\n",
       "  <tbody>\n",
       "    <tr>\n",
       "      <th>0</th>\n",
       "      <td>white</td>\n",
       "      <td>7.0</td>\n",
       "      <td>0.27</td>\n",
       "      <td>0.36</td>\n",
       "      <td>20.7</td>\n",
       "      <td>0.045</td>\n",
       "      <td>45.0</td>\n",
       "      <td>170.0</td>\n",
       "      <td>1.0010</td>\n",
       "      <td>3.00</td>\n",
       "      <td>0.45</td>\n",
       "      <td>8.8</td>\n",
       "      <td>6</td>\n",
       "    </tr>\n",
       "    <tr>\n",
       "      <th>1</th>\n",
       "      <td>white</td>\n",
       "      <td>6.3</td>\n",
       "      <td>0.30</td>\n",
       "      <td>0.34</td>\n",
       "      <td>1.6</td>\n",
       "      <td>0.049</td>\n",
       "      <td>14.0</td>\n",
       "      <td>132.0</td>\n",
       "      <td>0.9940</td>\n",
       "      <td>3.30</td>\n",
       "      <td>0.49</td>\n",
       "      <td>9.5</td>\n",
       "      <td>6</td>\n",
       "    </tr>\n",
       "    <tr>\n",
       "      <th>2</th>\n",
       "      <td>white</td>\n",
       "      <td>8.1</td>\n",
       "      <td>0.28</td>\n",
       "      <td>0.40</td>\n",
       "      <td>6.9</td>\n",
       "      <td>0.050</td>\n",
       "      <td>30.0</td>\n",
       "      <td>97.0</td>\n",
       "      <td>0.9951</td>\n",
       "      <td>3.26</td>\n",
       "      <td>0.44</td>\n",
       "      <td>10.1</td>\n",
       "      <td>6</td>\n",
       "    </tr>\n",
       "    <tr>\n",
       "      <th>3</th>\n",
       "      <td>white</td>\n",
       "      <td>7.2</td>\n",
       "      <td>0.23</td>\n",
       "      <td>0.32</td>\n",
       "      <td>8.5</td>\n",
       "      <td>0.058</td>\n",
       "      <td>47.0</td>\n",
       "      <td>186.0</td>\n",
       "      <td>0.9956</td>\n",
       "      <td>3.19</td>\n",
       "      <td>0.40</td>\n",
       "      <td>9.9</td>\n",
       "      <td>6</td>\n",
       "    </tr>\n",
       "    <tr>\n",
       "      <th>4</th>\n",
       "      <td>white</td>\n",
       "      <td>7.2</td>\n",
       "      <td>0.23</td>\n",
       "      <td>0.32</td>\n",
       "      <td>8.5</td>\n",
       "      <td>0.058</td>\n",
       "      <td>47.0</td>\n",
       "      <td>186.0</td>\n",
       "      <td>0.9956</td>\n",
       "      <td>3.19</td>\n",
       "      <td>0.40</td>\n",
       "      <td>9.9</td>\n",
       "      <td>6</td>\n",
       "    </tr>\n",
       "  </tbody>\n",
       "</table>\n",
       "</div>"
      ],
      "text/plain": [
       "    type  fixed acidity  volatile acidity  ...  sulphates  alcohol  quality\n",
       "0  white            7.0              0.27  ...       0.45      8.8        6\n",
       "1  white            6.3              0.30  ...       0.49      9.5        6\n",
       "2  white            8.1              0.28  ...       0.44     10.1        6\n",
       "3  white            7.2              0.23  ...       0.40      9.9        6\n",
       "4  white            7.2              0.23  ...       0.40      9.9        6\n",
       "\n",
       "[5 rows x 13 columns]"
      ]
     },
     "execution_count": 2,
     "metadata": {
      "tags": []
     },
     "output_type": "execute_result"
    }
   ],
   "source": [
    "# load the wine quality data\n",
    "wine_quality = pd.read_csv('/content/drive/MyDrive/TP/J2/winequality.csv')\n",
    "wine_quality.head()"
   ]
  },
  {
   "cell_type": "code",
   "execution_count": 3,
   "metadata": {
    "colab": {
     "base_uri": "https://localhost:8080/"
    },
    "id": "BltbcsPvET1u",
    "outputId": "9c1a921c-2b64-48f8-f425-174780667d9f"
   },
   "outputs": [
    {
     "data": {
      "text/plain": [
       "type                     object\n",
       "fixed acidity           float64\n",
       "volatile acidity        float64\n",
       "citric acid             float64\n",
       "residual sugar          float64\n",
       "chlorides               float64\n",
       "free sulfur dioxide     float64\n",
       "total sulfur dioxide    float64\n",
       "density                 float64\n",
       "pH                      float64\n",
       "sulphates               float64\n",
       "alcohol                 float64\n",
       "quality                   int64\n",
       "dtype: object"
      ]
     },
     "execution_count": 3,
     "metadata": {
      "tags": []
     },
     "output_type": "execute_result"
    }
   ],
   "source": [
    "wine_quality.dtypes"
   ]
  },
  {
   "cell_type": "code",
   "execution_count": 4,
   "metadata": {
    "colab": {
     "base_uri": "https://localhost:8080/",
     "height": 300
    },
    "id": "u9mNdQNUE-Au",
    "outputId": "e479f6cb-155f-4742-ef55-a8c34fbeb3ac"
   },
   "outputs": [
    {
     "data": {
      "text/html": [
       "<div>\n",
       "<style scoped>\n",
       "    .dataframe tbody tr th:only-of-type {\n",
       "        vertical-align: middle;\n",
       "    }\n",
       "\n",
       "    .dataframe tbody tr th {\n",
       "        vertical-align: top;\n",
       "    }\n",
       "\n",
       "    .dataframe thead th {\n",
       "        text-align: right;\n",
       "    }\n",
       "</style>\n",
       "<table border=\"1\" class=\"dataframe\">\n",
       "  <thead>\n",
       "    <tr style=\"text-align: right;\">\n",
       "      <th></th>\n",
       "      <th>fixed acidity</th>\n",
       "      <th>volatile acidity</th>\n",
       "      <th>citric acid</th>\n",
       "      <th>residual sugar</th>\n",
       "      <th>chlorides</th>\n",
       "      <th>free sulfur dioxide</th>\n",
       "      <th>total sulfur dioxide</th>\n",
       "      <th>density</th>\n",
       "      <th>pH</th>\n",
       "      <th>sulphates</th>\n",
       "      <th>alcohol</th>\n",
       "      <th>quality</th>\n",
       "    </tr>\n",
       "  </thead>\n",
       "  <tbody>\n",
       "    <tr>\n",
       "      <th>count</th>\n",
       "      <td>6487.000000</td>\n",
       "      <td>6489.000000</td>\n",
       "      <td>6494.000000</td>\n",
       "      <td>6495.000000</td>\n",
       "      <td>6495.000000</td>\n",
       "      <td>6497.000000</td>\n",
       "      <td>6497.000000</td>\n",
       "      <td>6497.000000</td>\n",
       "      <td>6488.000000</td>\n",
       "      <td>6493.000000</td>\n",
       "      <td>6497.000000</td>\n",
       "      <td>6497.000000</td>\n",
       "    </tr>\n",
       "    <tr>\n",
       "      <th>mean</th>\n",
       "      <td>7.216579</td>\n",
       "      <td>0.339691</td>\n",
       "      <td>0.318722</td>\n",
       "      <td>5.444326</td>\n",
       "      <td>0.056042</td>\n",
       "      <td>30.525319</td>\n",
       "      <td>115.744574</td>\n",
       "      <td>0.994697</td>\n",
       "      <td>3.218395</td>\n",
       "      <td>0.531215</td>\n",
       "      <td>10.491801</td>\n",
       "      <td>5.818378</td>\n",
       "    </tr>\n",
       "    <tr>\n",
       "      <th>std</th>\n",
       "      <td>1.296750</td>\n",
       "      <td>0.164649</td>\n",
       "      <td>0.145265</td>\n",
       "      <td>4.758125</td>\n",
       "      <td>0.035036</td>\n",
       "      <td>17.749400</td>\n",
       "      <td>56.521855</td>\n",
       "      <td>0.002999</td>\n",
       "      <td>0.160748</td>\n",
       "      <td>0.148814</td>\n",
       "      <td>1.192712</td>\n",
       "      <td>0.873255</td>\n",
       "    </tr>\n",
       "    <tr>\n",
       "      <th>min</th>\n",
       "      <td>3.800000</td>\n",
       "      <td>0.080000</td>\n",
       "      <td>0.000000</td>\n",
       "      <td>0.600000</td>\n",
       "      <td>0.009000</td>\n",
       "      <td>1.000000</td>\n",
       "      <td>6.000000</td>\n",
       "      <td>0.987110</td>\n",
       "      <td>2.720000</td>\n",
       "      <td>0.220000</td>\n",
       "      <td>8.000000</td>\n",
       "      <td>3.000000</td>\n",
       "    </tr>\n",
       "    <tr>\n",
       "      <th>25%</th>\n",
       "      <td>6.400000</td>\n",
       "      <td>0.230000</td>\n",
       "      <td>0.250000</td>\n",
       "      <td>1.800000</td>\n",
       "      <td>0.038000</td>\n",
       "      <td>17.000000</td>\n",
       "      <td>77.000000</td>\n",
       "      <td>0.992340</td>\n",
       "      <td>3.110000</td>\n",
       "      <td>0.430000</td>\n",
       "      <td>9.500000</td>\n",
       "      <td>5.000000</td>\n",
       "    </tr>\n",
       "    <tr>\n",
       "      <th>50%</th>\n",
       "      <td>7.000000</td>\n",
       "      <td>0.290000</td>\n",
       "      <td>0.310000</td>\n",
       "      <td>3.000000</td>\n",
       "      <td>0.047000</td>\n",
       "      <td>29.000000</td>\n",
       "      <td>118.000000</td>\n",
       "      <td>0.994890</td>\n",
       "      <td>3.210000</td>\n",
       "      <td>0.510000</td>\n",
       "      <td>10.300000</td>\n",
       "      <td>6.000000</td>\n",
       "    </tr>\n",
       "    <tr>\n",
       "      <th>75%</th>\n",
       "      <td>7.700000</td>\n",
       "      <td>0.400000</td>\n",
       "      <td>0.390000</td>\n",
       "      <td>8.100000</td>\n",
       "      <td>0.065000</td>\n",
       "      <td>41.000000</td>\n",
       "      <td>156.000000</td>\n",
       "      <td>0.996990</td>\n",
       "      <td>3.320000</td>\n",
       "      <td>0.600000</td>\n",
       "      <td>11.300000</td>\n",
       "      <td>6.000000</td>\n",
       "    </tr>\n",
       "    <tr>\n",
       "      <th>max</th>\n",
       "      <td>15.900000</td>\n",
       "      <td>1.580000</td>\n",
       "      <td>1.660000</td>\n",
       "      <td>65.800000</td>\n",
       "      <td>0.611000</td>\n",
       "      <td>289.000000</td>\n",
       "      <td>440.000000</td>\n",
       "      <td>1.038980</td>\n",
       "      <td>4.010000</td>\n",
       "      <td>2.000000</td>\n",
       "      <td>14.900000</td>\n",
       "      <td>9.000000</td>\n",
       "    </tr>\n",
       "  </tbody>\n",
       "</table>\n",
       "</div>"
      ],
      "text/plain": [
       "       fixed acidity  volatile acidity  ...      alcohol      quality\n",
       "count    6487.000000       6489.000000  ...  6497.000000  6497.000000\n",
       "mean        7.216579          0.339691  ...    10.491801     5.818378\n",
       "std         1.296750          0.164649  ...     1.192712     0.873255\n",
       "min         3.800000          0.080000  ...     8.000000     3.000000\n",
       "25%         6.400000          0.230000  ...     9.500000     5.000000\n",
       "50%         7.000000          0.290000  ...    10.300000     6.000000\n",
       "75%         7.700000          0.400000  ...    11.300000     6.000000\n",
       "max        15.900000          1.580000  ...    14.900000     9.000000\n",
       "\n",
       "[8 rows x 12 columns]"
      ]
     },
     "execution_count": 4,
     "metadata": {
      "tags": []
     },
     "output_type": "execute_result"
    }
   ],
   "source": [
    "wine_quality.describe()"
   ]
  },
  {
   "cell_type": "code",
   "execution_count": 5,
   "metadata": {
    "colab": {
     "base_uri": "https://localhost:8080/",
     "height": 279
    },
    "id": "eR5jkbORIxQ5",
    "outputId": "ca3ad527-f69e-4dae-84f6-7ff0817627f1"
   },
   "outputs": [
    {
     "data": {
      "image/png": "[encoded data removed]",
      "text/plain": [
       "<Figure size 432x288 with 1 Axes>"
      ]
     },
     "metadata": {
      "needs_background": "light",
      "tags": []
     },
     "output_type": "display_data"
    }
   ],
   "source": [
    "# plotting a graph to see types\n",
    "wine_quality['type'].value_counts().plot(kind = \"barh\")\n",
    "plt.xlabel(\"Count\")\n",
    "plt.ylabel(\"Type\")\n",
    "plt.show()\n"
   ]
  },
  {
   "cell_type": "code",
   "execution_count": 6,
   "metadata": {
    "id": "AFHjMgrsOCJA"
   },
   "outputs": [],
   "source": [
    "wine_quality = wine_quality.dropna()"
   ]
  },
  {
   "cell_type": "code",
   "execution_count": 7,
   "metadata": {
    "colab": {
     "base_uri": "https://localhost:8080/",
     "height": 696
    },
    "id": "Ic4EIUQUFcPl",
    "outputId": "f2dede62-6aa0-4915-dcdf-bdbc2239c4d6"
   },
   "outputs": [
    {
     "data": {
      "text/plain": [
       "<matplotlib.axes._subplots.AxesSubplot at 0x7f512d88dd90>"
      ]
     },
     "execution_count": 7,
     "metadata": {
      "tags": []
     },
     "output_type": "execute_result"
    },
    {
     "data": {
      "image/png": "[encoded data removed]",
      "text/plain": [
       "<Figure size 720x720 with 2 Axes>"
      ]
     },
     "metadata": {
      "needs_background": "light",
      "tags": []
     },
     "output_type": "display_data"
    }
   ],
   "source": [
    "corrMatrix = wine_quality.corr()\n",
    "plt.figure(figsize=(10, 10))\n",
    "sn.heatmap(corrMatrix, annot=True, linewidths=0.5)"
   ]
  },
  {
   "cell_type": "code",
   "execution_count": 8,
   "metadata": {
    "colab": {
     "base_uri": "https://localhost:8080/",
     "height": 206
    },
    "id": "EM-i2YDMIOix",
    "outputId": "06fa2841-4dfd-4c91-ab96-8276ce83f138"
   },
   "outputs": [
    {
     "data": {
      "text/html": [
       "<div>\n",
       "<style scoped>\n",
       "    .dataframe tbody tr th:only-of-type {\n",
       "        vertical-align: middle;\n",
       "    }\n",
       "\n",
       "    .dataframe tbody tr th {\n",
       "        vertical-align: top;\n",
       "    }\n",
       "\n",
       "    .dataframe thead th {\n",
       "        text-align: right;\n",
       "    }\n",
       "</style>\n",
       "<table border=\"1\" class=\"dataframe\">\n",
       "  <thead>\n",
       "    <tr style=\"text-align: right;\">\n",
       "      <th></th>\n",
       "      <th>fixed acidity</th>\n",
       "      <th>volatile acidity</th>\n",
       "      <th>citric acid</th>\n",
       "      <th>residual sugar</th>\n",
       "      <th>chlorides</th>\n",
       "      <th>free sulfur dioxide</th>\n",
       "      <th>total sulfur dioxide</th>\n",
       "      <th>density</th>\n",
       "      <th>pH</th>\n",
       "      <th>sulphates</th>\n",
       "      <th>alcohol</th>\n",
       "      <th>quality</th>\n",
       "      <th>type_red</th>\n",
       "      <th>type_white</th>\n",
       "    </tr>\n",
       "  </thead>\n",
       "  <tbody>\n",
       "    <tr>\n",
       "      <th>0</th>\n",
       "      <td>7.0</td>\n",
       "      <td>0.27</td>\n",
       "      <td>0.36</td>\n",
       "      <td>20.7</td>\n",
       "      <td>0.045</td>\n",
       "      <td>45.0</td>\n",
       "      <td>170.0</td>\n",
       "      <td>1.0010</td>\n",
       "      <td>3.00</td>\n",
       "      <td>0.45</td>\n",
       "      <td>8.8</td>\n",
       "      <td>6</td>\n",
       "      <td>0</td>\n",
       "      <td>1</td>\n",
       "    </tr>\n",
       "    <tr>\n",
       "      <th>1</th>\n",
       "      <td>6.3</td>\n",
       "      <td>0.30</td>\n",
       "      <td>0.34</td>\n",
       "      <td>1.6</td>\n",
       "      <td>0.049</td>\n",
       "      <td>14.0</td>\n",
       "      <td>132.0</td>\n",
       "      <td>0.9940</td>\n",
       "      <td>3.30</td>\n",
       "      <td>0.49</td>\n",
       "      <td>9.5</td>\n",
       "      <td>6</td>\n",
       "      <td>0</td>\n",
       "      <td>1</td>\n",
       "    </tr>\n",
       "    <tr>\n",
       "      <th>2</th>\n",
       "      <td>8.1</td>\n",
       "      <td>0.28</td>\n",
       "      <td>0.40</td>\n",
       "      <td>6.9</td>\n",
       "      <td>0.050</td>\n",
       "      <td>30.0</td>\n",
       "      <td>97.0</td>\n",
       "      <td>0.9951</td>\n",
       "      <td>3.26</td>\n",
       "      <td>0.44</td>\n",
       "      <td>10.1</td>\n",
       "      <td>6</td>\n",
       "      <td>0</td>\n",
       "      <td>1</td>\n",
       "    </tr>\n",
       "    <tr>\n",
       "      <th>3</th>\n",
       "      <td>7.2</td>\n",
       "      <td>0.23</td>\n",
       "      <td>0.32</td>\n",
       "      <td>8.5</td>\n",
       "      <td>0.058</td>\n",
       "      <td>47.0</td>\n",
       "      <td>186.0</td>\n",
       "      <td>0.9956</td>\n",
       "      <td>3.19</td>\n",
       "      <td>0.40</td>\n",
       "      <td>9.9</td>\n",
       "      <td>6</td>\n",
       "      <td>0</td>\n",
       "      <td>1</td>\n",
       "    </tr>\n",
       "    <tr>\n",
       "      <th>4</th>\n",
       "      <td>7.2</td>\n",
       "      <td>0.23</td>\n",
       "      <td>0.32</td>\n",
       "      <td>8.5</td>\n",
       "      <td>0.058</td>\n",
       "      <td>47.0</td>\n",
       "      <td>186.0</td>\n",
       "      <td>0.9956</td>\n",
       "      <td>3.19</td>\n",
       "      <td>0.40</td>\n",
       "      <td>9.9</td>\n",
       "      <td>6</td>\n",
       "      <td>0</td>\n",
       "      <td>1</td>\n",
       "    </tr>\n",
       "  </tbody>\n",
       "</table>\n",
       "</div>"
      ],
      "text/plain": [
       "   fixed acidity  volatile acidity  citric acid  ...  quality  type_red  type_white\n",
       "0            7.0              0.27         0.36  ...        6         0           1\n",
       "1            6.3              0.30         0.34  ...        6         0           1\n",
       "2            8.1              0.28         0.40  ...        6         0           1\n",
       "3            7.2              0.23         0.32  ...        6         0           1\n",
       "4            7.2              0.23         0.32  ...        6         0           1\n",
       "\n",
       "[5 rows x 14 columns]"
      ]
     },
     "execution_count": 8,
     "metadata": {
      "tags": []
     },
     "output_type": "execute_result"
    }
   ],
   "source": [
    "# get encoding on categorical variables\n",
    "wine_quality = pd.get_dummies(wine_quality, columns=[\"type\"], prefix=[\"type\"])\n",
    "wine_quality.head()"
   ]
  },
  {
   "cell_type": "code",
   "execution_count": 9,
   "metadata": {
    "colab": {
     "base_uri": "https://localhost:8080/",
     "height": 206
    },
    "id": "MbkTd2hWTeT8",
    "outputId": "541285cb-c63e-4b29-8c90-20e1ac5543ea"
   },
   "outputs": [
    {
     "data": {
      "text/html": [
       "<div>\n",
       "<style scoped>\n",
       "    .dataframe tbody tr th:only-of-type {\n",
       "        vertical-align: middle;\n",
       "    }\n",
       "\n",
       "    .dataframe tbody tr th {\n",
       "        vertical-align: top;\n",
       "    }\n",
       "\n",
       "    .dataframe thead th {\n",
       "        text-align: right;\n",
       "    }\n",
       "</style>\n",
       "<table border=\"1\" class=\"dataframe\">\n",
       "  <thead>\n",
       "    <tr style=\"text-align: right;\">\n",
       "      <th></th>\n",
       "      <th>fixed acidity</th>\n",
       "      <th>volatile acidity</th>\n",
       "      <th>citric acid</th>\n",
       "      <th>residual sugar</th>\n",
       "      <th>chlorides</th>\n",
       "      <th>free sulfur dioxide</th>\n",
       "      <th>total sulfur dioxide</th>\n",
       "      <th>density</th>\n",
       "      <th>pH</th>\n",
       "      <th>sulphates</th>\n",
       "      <th>alcohol</th>\n",
       "      <th>quality</th>\n",
       "      <th>type_red</th>\n",
       "      <th>type_white</th>\n",
       "      <th>quality_class</th>\n",
       "    </tr>\n",
       "  </thead>\n",
       "  <tbody>\n",
       "    <tr>\n",
       "      <th>0</th>\n",
       "      <td>7.0</td>\n",
       "      <td>0.27</td>\n",
       "      <td>0.36</td>\n",
       "      <td>20.7</td>\n",
       "      <td>0.045</td>\n",
       "      <td>45.0</td>\n",
       "      <td>170.0</td>\n",
       "      <td>1.0010</td>\n",
       "      <td>3.00</td>\n",
       "      <td>0.45</td>\n",
       "      <td>8.8</td>\n",
       "      <td>6</td>\n",
       "      <td>0</td>\n",
       "      <td>1</td>\n",
       "      <td>6</td>\n",
       "    </tr>\n",
       "    <tr>\n",
       "      <th>1</th>\n",
       "      <td>6.3</td>\n",
       "      <td>0.30</td>\n",
       "      <td>0.34</td>\n",
       "      <td>1.6</td>\n",
       "      <td>0.049</td>\n",
       "      <td>14.0</td>\n",
       "      <td>132.0</td>\n",
       "      <td>0.9940</td>\n",
       "      <td>3.30</td>\n",
       "      <td>0.49</td>\n",
       "      <td>9.5</td>\n",
       "      <td>6</td>\n",
       "      <td>0</td>\n",
       "      <td>1</td>\n",
       "      <td>6</td>\n",
       "    </tr>\n",
       "    <tr>\n",
       "      <th>2</th>\n",
       "      <td>8.1</td>\n",
       "      <td>0.28</td>\n",
       "      <td>0.40</td>\n",
       "      <td>6.9</td>\n",
       "      <td>0.050</td>\n",
       "      <td>30.0</td>\n",
       "      <td>97.0</td>\n",
       "      <td>0.9951</td>\n",
       "      <td>3.26</td>\n",
       "      <td>0.44</td>\n",
       "      <td>10.1</td>\n",
       "      <td>6</td>\n",
       "      <td>0</td>\n",
       "      <td>1</td>\n",
       "      <td>6</td>\n",
       "    </tr>\n",
       "    <tr>\n",
       "      <th>3</th>\n",
       "      <td>7.2</td>\n",
       "      <td>0.23</td>\n",
       "      <td>0.32</td>\n",
       "      <td>8.5</td>\n",
       "      <td>0.058</td>\n",
       "      <td>47.0</td>\n",
       "      <td>186.0</td>\n",
       "      <td>0.9956</td>\n",
       "      <td>3.19</td>\n",
       "      <td>0.40</td>\n",
       "      <td>9.9</td>\n",
       "      <td>6</td>\n",
       "      <td>0</td>\n",
       "      <td>1</td>\n",
       "      <td>6</td>\n",
       "    </tr>\n",
       "    <tr>\n",
       "      <th>4</th>\n",
       "      <td>7.2</td>\n",
       "      <td>0.23</td>\n",
       "      <td>0.32</td>\n",
       "      <td>8.5</td>\n",
       "      <td>0.058</td>\n",
       "      <td>47.0</td>\n",
       "      <td>186.0</td>\n",
       "      <td>0.9956</td>\n",
       "      <td>3.19</td>\n",
       "      <td>0.40</td>\n",
       "      <td>9.9</td>\n",
       "      <td>6</td>\n",
       "      <td>0</td>\n",
       "      <td>1</td>\n",
       "      <td>6</td>\n",
       "    </tr>\n",
       "  </tbody>\n",
       "</table>\n",
       "</div>"
      ],
      "text/plain": [
       "   fixed acidity  volatile acidity  ...  type_white  quality_class\n",
       "0            7.0              0.27  ...           1              6\n",
       "1            6.3              0.30  ...           1              6\n",
       "2            8.1              0.28  ...           1              6\n",
       "3            7.2              0.23  ...           1              6\n",
       "4            7.2              0.23  ...           1              6\n",
       "\n",
       "[5 rows x 15 columns]"
      ]
     },
     "execution_count": 9,
     "metadata": {
      "tags": []
     },
     "output_type": "execute_result"
    }
   ],
   "source": [
    "bins = [0, 5.99, 6.01, np.inf]\n",
    "names = ['<6', '6', '6-9']\n",
    "wine_quality['quality_class'] = pd.cut(wine_quality['quality'], bins, labels=names)\n",
    "wine_quality.head()"
   ]
  },
  {
   "cell_type": "code",
   "execution_count": 10,
   "metadata": {
    "colab": {
     "base_uri": "https://localhost:8080/",
     "height": 279
    },
    "id": "aVZEa2tmb7Xt",
    "outputId": "35f2d2bf-89dc-4224-d07e-112c77f0de09"
   },
   "outputs": [
    {
     "data": {
      "image/png": "[encoded data removed]",
      "text/plain": [
       "<Figure size 432x288 with 1 Axes>"
      ]
     },
     "metadata": {
      "needs_background": "light",
      "tags": []
     },
     "output_type": "display_data"
    }
   ],
   "source": [
    "# plotting a graph to see classes\n",
    "wine_quality['quality_class'].value_counts().plot(kind = \"barh\")\n",
    "plt.xlabel(\"Count\")\n",
    "plt.ylabel(\"Type\")\n",
    "plt.show()"
   ]
  },
  {
   "cell_type": "code",
   "execution_count": 11,
   "metadata": {
    "colab": {
     "base_uri": "https://localhost:8080/"
    },
    "id": "wmIiu8G_YjWe",
    "outputId": "e3b74032-45ed-4527-e905-862c3453251f"
   },
   "outputs": [
    {
     "name": "stdout",
     "output_type": "stream",
     "text": [
      "[[1. 0. 0.]\n",
      " [1. 0. 0.]\n",
      " [1. 0. 0.]\n",
      " ...\n",
      " [1. 0. 0.]\n",
      " [0. 0. 1.]\n",
      " [1. 0. 0.]]\n"
     ]
    }
   ],
   "source": [
    "# encode class values as integers\n",
    "Y = wine_quality['quality_class']\n",
    "encoder = LabelEncoder()\n",
    "encoder.fit(Y)\n",
    "encoded_Y = encoder.transform(Y)\n",
    "# convert integers to dummy variables (i.e. one hot encoded)\n",
    "Y = np_utils.to_categorical(encoded_Y)\n",
    "print(Y)"
   ]
  },
  {
   "cell_type": "code",
   "execution_count": 12,
   "metadata": {
    "id": "rmPRaH6RGAlh"
   },
   "outputs": [],
   "source": [
    "# perform scaling on the data\n",
    "X = wine_quality.drop(['quality', 'quality_class'], axis = 1)\n",
    "mnscaler = MinMaxScaler()\n",
    "X = mnscaler.fit_transform(X)\n",
    "X = pd.DataFrame(X, columns=wine_quality.drop(['quality', 'quality_class'],axis = 1).columns)\n",
    "\n",
    "# train test split\n",
    "X_train, X_test, Y_train, Y_test = train_test_split(X,Y, test_size = 0.1, stratify = Y, random_state = 1)\n",
    "X_train = X_train.values\n",
    "X_test = X_test.values"
   ]
  },
  {
   "cell_type": "code",
   "execution_count": 13,
   "metadata": {
    "colab": {
     "base_uri": "https://localhost:8080/"
    },
    "id": "WN0pf3caJu_W",
    "outputId": "b50854e6-f3d1-4c91-a542-aa0b1bf2d59b"
   },
   "outputs": [
    {
     "name": "stdout",
     "output_type": "stream",
     "text": [
      "Epoch 1/50\n",
      "146/146 - 2s - loss: 0.9544 - accuracy: 0.5135 - val_loss: 0.8845 - val_accuracy: 0.5653\n",
      "Epoch 2/50\n",
      "146/146 - 0s - loss: 0.8901 - accuracy: 0.5520 - val_loss: 0.8635 - val_accuracy: 0.5550\n",
      "Epoch 3/50\n",
      "146/146 - 0s - loss: 0.8731 - accuracy: 0.5653 - val_loss: 0.8545 - val_accuracy: 0.5704\n",
      "Epoch 4/50\n",
      "146/146 - 1s - loss: 0.8610 - accuracy: 0.5802 - val_loss: 0.8375 - val_accuracy: 0.5816\n",
      "Epoch 5/50\n",
      "146/146 - 0s - loss: 0.8603 - accuracy: 0.5737 - val_loss: 0.8364 - val_accuracy: 0.5825\n",
      "Epoch 6/50\n",
      "146/146 - 1s - loss: 0.8517 - accuracy: 0.5840 - val_loss: 0.8358 - val_accuracy: 0.5799\n",
      "Epoch 7/50\n",
      "146/146 - 1s - loss: 0.8477 - accuracy: 0.5853 - val_loss: 0.8573 - val_accuracy: 0.5816\n",
      "Epoch 8/50\n",
      "146/146 - 0s - loss: 0.8443 - accuracy: 0.5914 - val_loss: 0.8196 - val_accuracy: 0.6014\n",
      "Epoch 9/50\n",
      "146/146 - 1s - loss: 0.8415 - accuracy: 0.5881 - val_loss: 0.8115 - val_accuracy: 0.5954\n",
      "Epoch 10/50\n",
      "146/146 - 0s - loss: 0.8320 - accuracy: 0.5907 - val_loss: 0.8517 - val_accuracy: 0.5558\n",
      "Epoch 11/50\n",
      "146/146 - 0s - loss: 0.8269 - accuracy: 0.5914 - val_loss: 0.8134 - val_accuracy: 0.5825\n",
      "Epoch 12/50\n",
      "146/146 - 1s - loss: 0.8314 - accuracy: 0.5957 - val_loss: 0.8030 - val_accuracy: 0.6014\n",
      "Epoch 13/50\n",
      "146/146 - 1s - loss: 0.8205 - accuracy: 0.5976 - val_loss: 0.8068 - val_accuracy: 0.5979\n",
      "Epoch 14/50\n",
      "146/146 - 1s - loss: 0.8200 - accuracy: 0.6025 - val_loss: 0.8246 - val_accuracy: 0.5885\n",
      "Epoch 15/50\n",
      "146/146 - 1s - loss: 0.8210 - accuracy: 0.6023 - val_loss: 0.8025 - val_accuracy: 0.6125\n",
      "Epoch 16/50\n",
      "146/146 - 0s - loss: 0.8189 - accuracy: 0.5987 - val_loss: 0.8051 - val_accuracy: 0.6082\n",
      "Epoch 17/50\n",
      "146/146 - 0s - loss: 0.8096 - accuracy: 0.6023 - val_loss: 0.8273 - val_accuracy: 0.5799\n",
      "Epoch 18/50\n",
      "146/146 - 0s - loss: 0.8127 - accuracy: 0.6053 - val_loss: 0.7975 - val_accuracy: 0.5954\n",
      "Epoch 19/50\n",
      "146/146 - 0s - loss: 0.8029 - accuracy: 0.6133 - val_loss: 0.8043 - val_accuracy: 0.6022\n",
      "Epoch 20/50\n",
      "146/146 - 1s - loss: 0.8072 - accuracy: 0.6071 - val_loss: 0.7832 - val_accuracy: 0.6211\n",
      "Epoch 21/50\n",
      "146/146 - 1s - loss: 0.8087 - accuracy: 0.6107 - val_loss: 0.7877 - val_accuracy: 0.6057\n",
      "Epoch 22/50\n",
      "146/146 - 1s - loss: 0.8046 - accuracy: 0.6047 - val_loss: 0.7907 - val_accuracy: 0.6143\n",
      "Epoch 23/50\n",
      "146/146 - 0s - loss: 0.7963 - accuracy: 0.6150 - val_loss: 0.7859 - val_accuracy: 0.6211\n",
      "Epoch 24/50\n",
      "146/146 - 1s - loss: 0.8024 - accuracy: 0.6105 - val_loss: 0.7963 - val_accuracy: 0.6117\n",
      "Epoch 25/50\n",
      "146/146 - 0s - loss: 0.7945 - accuracy: 0.6096 - val_loss: 0.7833 - val_accuracy: 0.6125\n",
      "Epoch 26/50\n",
      "146/146 - 1s - loss: 0.7923 - accuracy: 0.6120 - val_loss: 0.8133 - val_accuracy: 0.5928\n",
      "Epoch 27/50\n",
      "146/146 - 1s - loss: 0.7953 - accuracy: 0.6148 - val_loss: 0.7918 - val_accuracy: 0.6065\n",
      "Epoch 28/50\n",
      "146/146 - 0s - loss: 0.7862 - accuracy: 0.6191 - val_loss: 0.7957 - val_accuracy: 0.6134\n",
      "Epoch 29/50\n",
      "146/146 - 1s - loss: 0.7892 - accuracy: 0.6156 - val_loss: 0.7898 - val_accuracy: 0.6040\n",
      "Epoch 30/50\n",
      "146/146 - 0s - loss: 0.7871 - accuracy: 0.6217 - val_loss: 0.7924 - val_accuracy: 0.6151\n",
      "Epoch 31/50\n",
      "146/146 - 1s - loss: 0.7883 - accuracy: 0.6197 - val_loss: 0.7844 - val_accuracy: 0.6177\n",
      "Epoch 32/50\n",
      "146/146 - 1s - loss: 0.7825 - accuracy: 0.6242 - val_loss: 0.7861 - val_accuracy: 0.6091\n",
      "Epoch 33/50\n",
      "146/146 - 1s - loss: 0.7841 - accuracy: 0.6165 - val_loss: 0.7909 - val_accuracy: 0.6040\n",
      "Epoch 34/50\n",
      "146/146 - 1s - loss: 0.7766 - accuracy: 0.6249 - val_loss: 0.7838 - val_accuracy: 0.6323\n",
      "Epoch 35/50\n",
      "146/146 - 0s - loss: 0.7791 - accuracy: 0.6230 - val_loss: 0.7815 - val_accuracy: 0.6203\n",
      "Epoch 36/50\n",
      "146/146 - 0s - loss: 0.7808 - accuracy: 0.6221 - val_loss: 0.7879 - val_accuracy: 0.6160\n",
      "Epoch 37/50\n",
      "146/146 - 1s - loss: 0.7773 - accuracy: 0.6294 - val_loss: 0.8180 - val_accuracy: 0.6057\n",
      "Epoch 38/50\n",
      "146/146 - 0s - loss: 0.7789 - accuracy: 0.6180 - val_loss: 0.8106 - val_accuracy: 0.6014\n",
      "Epoch 39/50\n",
      "146/146 - 0s - loss: 0.7685 - accuracy: 0.6316 - val_loss: 0.7930 - val_accuracy: 0.5928\n",
      "Epoch 40/50\n",
      "146/146 - 1s - loss: 0.7699 - accuracy: 0.6247 - val_loss: 0.7938 - val_accuracy: 0.6074\n",
      "Epoch 41/50\n",
      "146/146 - 1s - loss: 0.7650 - accuracy: 0.6316 - val_loss: 0.7929 - val_accuracy: 0.6229\n",
      "Epoch 42/50\n",
      "146/146 - 1s - loss: 0.7687 - accuracy: 0.6258 - val_loss: 0.7731 - val_accuracy: 0.6297\n",
      "Epoch 43/50\n",
      "146/146 - 1s - loss: 0.7627 - accuracy: 0.6337 - val_loss: 0.7949 - val_accuracy: 0.6014\n",
      "Epoch 44/50\n",
      "146/146 - 0s - loss: 0.7660 - accuracy: 0.6328 - val_loss: 0.8048 - val_accuracy: 0.6203\n",
      "Epoch 45/50\n",
      "146/146 - 0s - loss: 0.7604 - accuracy: 0.6350 - val_loss: 0.7740 - val_accuracy: 0.6211\n",
      "Epoch 46/50\n",
      "146/146 - 1s - loss: 0.7618 - accuracy: 0.6333 - val_loss: 0.7962 - val_accuracy: 0.6108\n",
      "Epoch 47/50\n",
      "146/146 - 1s - loss: 0.7569 - accuracy: 0.6301 - val_loss: 0.7920 - val_accuracy: 0.6091\n",
      "Epoch 48/50\n",
      "146/146 - 1s - loss: 0.7560 - accuracy: 0.6378 - val_loss: 0.7932 - val_accuracy: 0.6057\n",
      "Epoch 49/50\n",
      "146/146 - 0s - loss: 0.7582 - accuracy: 0.6337 - val_loss: 0.7757 - val_accuracy: 0.6229\n",
      "Epoch 50/50\n",
      "146/146 - 1s - loss: 0.7481 - accuracy: 0.6387 - val_loss: 0.7785 - val_accuracy: 0.6263\n",
      "The Accuracy for the test data set is: 0.6089644432067871\n"
     ]
    }
   ],
   "source": [
    "from keras.models import Sequential\n",
    "from keras.layers import *\n",
    "from keras.optimizers import *\n",
    "\n",
    "# Define the model\n",
    "model = Sequential([\n",
    "  Dense(512, input_dim=13, activation='relu'),\n",
    "  Dropout(0.2),\n",
    "  Dense(256, activation='relu'),\n",
    "  Dropout(0.2),\n",
    "  Dense(32, activation='relu'),\n",
    "  Dense(3, activation='softmax')\n",
    "])\n",
    "opt = Adam(learning_rate=0.001)\n",
    "model.compile(loss='categorical_crossentropy', metrics=['accuracy'], optimizer=opt)\n",
    "\n",
    "# Train the model\n",
    "history = model.fit(\n",
    "    X_train,\n",
    "    Y_train,\n",
    "    validation_split=0.2,\n",
    "    epochs=50,\n",
    "    batch_size=32,\n",
    "    shuffle=True,\n",
    "    verbose=2,\n",
    ")\n",
    "\n",
    "test_error_rate = model.evaluate(X_test, Y_test, verbose=0)\n",
    "print(\"The Accuracy for the test data set is: {}\".format(test_error_rate[1]))"
   ]
  },
  {
   "cell_type": "code",
   "execution_count": 14,
   "metadata": {
    "colab": {
     "base_uri": "https://localhost:8080/",
     "height": 295
    },
    "id": "3I83UqtgOg2N",
    "outputId": "cd8aa21c-3341-4b29-fcac-f9da8958f930"
   },
   "outputs": [
    {
     "data": {
      "image/png": "[encoded data removed]",
      "text/plain": [
       "<Figure size 432x288 with 1 Axes>"
      ]
     },
     "metadata": {
      "needs_background": "light",
      "tags": []
     },
     "output_type": "display_data"
    }
   ],
   "source": [
    "# summarize history for loss\n",
    "plt.plot(history.history['loss'])\n",
    "plt.plot(history.history['val_loss'])\n",
    "plt.title('model loss')\n",
    "plt.ylabel('loss')\n",
    "plt.xlabel('epoch')\n",
    "plt.legend(['train', 'validation'], loc='upper left')\n",
    "plt.show()"
   ]
  },
  {
   "cell_type": "code",
   "execution_count": 15,
   "metadata": {
    "colab": {
     "base_uri": "https://localhost:8080/",
     "height": 295
    },
    "id": "DrNo7SYgPRGa",
    "outputId": "ad46760d-ddfc-4989-a8a8-f5294631d08a"
   },
   "outputs": [
    {
     "data": {
      "image/png": "[encoded data removed]",
      "text/plain": [
       "<Figure size 432x288 with 1 Axes>"
      ]
     },
     "metadata": {
      "needs_background": "light",
      "tags": []
     },
     "output_type": "display_data"
    }
   ],
   "source": [
    "# summarize history for accuracy\n",
    "plt.plot(history.history['accuracy'])\n",
    "plt.plot(history.history['val_accuracy'])\n",
    "plt.title('model accuracy')\n",
    "plt.ylabel('accuracy')\n",
    "plt.xlabel('epoch')\n",
    "plt.legend(['train', 'validation'], loc='upper left')\n",
    "plt.show()"
   ]
  },
  {
   "cell_type": "code",
   "execution_count": 16,
   "metadata": {
    "id": "JO1Qd-xXmKma"
   },
   "outputs": [],
   "source": [
    "# get the predictions for the test data\n",
    "Y_pred_labels = np.argmax(model.predict(X_test), axis=-1)\n",
    "\n",
    "Y_test_labels = np.argmax(Y_test, axis=1)"
   ]
  },
  {
   "cell_type": "code",
   "execution_count": 17,
   "metadata": {
    "colab": {
     "base_uri": "https://localhost:8080/"
    },
    "id": "m0pSoBDcmO4k",
    "outputId": "733728c3-1de4-4086-83d8-9af744dcd0f0"
   },
   "outputs": [
    {
     "name": "stdout",
     "output_type": "stream",
     "text": [
      "              precision    recall  f1-score   support\n",
      "\n",
      "     Class 0       0.55      0.65      0.60       282\n",
      "     Class 1       0.55      0.42      0.48       127\n",
      "     Class 2       0.72      0.66      0.69       238\n",
      "\n",
      "    accuracy                           0.61       647\n",
      "   macro avg       0.61      0.58      0.59       647\n",
      "weighted avg       0.61      0.61      0.61       647\n",
      "\n"
     ]
    }
   ],
   "source": [
    "from sklearn.metrics import classification_report\n",
    "target_names = [\"Class {}\".format(i) for i in range(0, 3)]\n",
    "print(classification_report(Y_test_labels, Y_pred_labels, target_names=target_names))"
   ]
  },
  {
   "cell_type": "code",
   "execution_count": 18,
   "metadata": {
    "colab": {
     "base_uri": "https://localhost:8080/"
    },
    "id": "atrpNcMjmrEk",
    "outputId": "c8acae7e-c966-48d8-83e4-26d9dfdf1938"
   },
   "outputs": [
    {
     "name": "stdout",
     "output_type": "stream",
     "text": [
      "[[184  40  58]\n",
      " [ 71  53   3]\n",
      " [ 78   3 157]]\n"
     ]
    }
   ],
   "source": [
    "from sklearn.metrics import confusion_matrix\n",
    "print(confusion_matrix(Y_test_labels, Y_pred_labels))"
   ]
  },
  {
   "cell_type": "code",
   "execution_count": 18,
   "metadata": {
    "id": "QIatYqf4pGpk"
   },
   "outputs": [],
   "source": []
  }
 ],
 "metadata": {
  "colab": {
   "collapsed_sections": [],
   "name": "TP3.ipynb",
   "provenance": []
  },
  "kernelspec": {
   "display_name": "Python 3",
   "language": "python",
   "name": "python3"
  },
  "language_info": {
   "codemirror_mode": {
    "name": "ipython",
    "version": 3
   },
   "file_extension": ".py",
   "mimetype": "text/x-python",
   "name": "python",
   "nbconvert_exporter": "python",
   "pygments_lexer": "ipython3",
   "version": "3.7.9"
  }
 },
 "nbformat": 4,
 "nbformat_minor": 1
}
